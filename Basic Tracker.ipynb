{
 "cells": [
  {
   "cell_type": "code",
   "execution_count": 15,
   "id": "6d6aef07-1171-46fe-9b3a-2e34cf30871b",
   "metadata": {},
   "outputs": [],
   "source": [
    "class BasicTracker:\n",
    "    def __init__(self,breakfast, lunch, dinner, exercise, bmr):\n",
    "        self.breakfast = breakfast\n",
    "        self.lunch = lunch\n",
    "        self.dinner = dinner\n",
    "        self.exercise = exercise\n",
    "        self.bmr = bmr\n",
    "        \n",
    "    def calorie_deficit(self):\n",
    "        deficit = self.bmr + self.exercise - (self.breakfast + self.lunch + self.dinner)\n",
    "        return deficit"
   ]
  },
  {
   "cell_type": "code",
   "execution_count": 16,
   "id": "1a8f47f0-73a0-419b-94da-54d2053a75fd",
   "metadata": {},
   "outputs": [
    {
     "name": "stdin",
     "output_type": "stream",
     "text": [
      "Breakfast Calories =  1000\n",
      "Lunch Calories =  2000\n",
      "Dinner Calories =  500\n",
      "Amount of calories burnt =  5000\n",
      "Basic Metalbolic Rate =  7000\n"
     ]
    },
    {
     "name": "stdout",
     "output_type": "stream",
     "text": [
      "You will lose 19.444444444444443 lbs.per week\n"
     ]
    }
   ],
   "source": [
    "breakfast = int(input(\"Breakfast Calories = \"))\n",
    "lunch = int(input(\"Lunch Calories = \"))\n",
    "dinner = int(input(\"Dinner Calories = \"))\n",
    "exercise = int(input(\"Amount of calories burnt = \"))\n",
    "bmr = int(input(\"Basic Metalbolic Rate = \"))\n",
    "\n",
    "\n",
    "fitness = BasicTracker(breakfast_calories, lunch_calories, dinner_calories, exercise, bmr)\n",
    "weekly_deficit = 7 * fitness.calorie_deficit()\n",
    "\n",
    "if weekly_deficit > 0:\n",
    "    print(f\"You will lose {weekly_deficit / 3600} lbs.per week\")\n",
    "elif weekly_deficit == 0:\n",
    "    print(f\"You will weigh same\")\n",
    "else:\n",
    "    print (f\"You will gain {-1*weekly_deficit/3600}lbs. per week\")\n",
    "\n",
    "\n",
    "\n"
   ]
  },
  {
   "cell_type": "code",
   "execution_count": null,
   "id": "7cf58493-95f4-4910-8553-ddcaf032d570",
   "metadata": {},
   "outputs": [],
   "source": []
  }
 ],
 "metadata": {
  "kernelspec": {
   "display_name": "Python 3 (ipykernel)",
   "language": "python",
   "name": "python3"
  },
  "language_info": {
   "codemirror_mode": {
    "name": "ipython",
    "version": 3
   },
   "file_extension": ".py",
   "mimetype": "text/x-python",
   "name": "python",
   "nbconvert_exporter": "python",
   "pygments_lexer": "ipython3",
   "version": "3.9.7"
  }
 },
 "nbformat": 4,
 "nbformat_minor": 5
}
